{
  "nbformat": 4,
  "nbformat_minor": 0,
  "metadata": {
    "colab": {
      "provenance": [],
      "toc_visible": true,
      "gpuType": "T4"
    },
    "kernelspec": {
      "name": "python3",
      "display_name": "Python 3"
    },
    "language_info": {
      "name": "python"
    },
    "accelerator": "GPU"
  },
  "cells": [
    {
      "cell_type": "code",
      "execution_count": null,
      "metadata": {
        "id": "IE5Y6DR3aIVs"
      },
      "outputs": [],
      "source": [
        "# Install dependencies\n",
        "!pip install torch torchvision torchaudio --index-url https://download.pytorch.org/whl/cu117\n",
        "!pip install transformers datasets tqdm\n",
        "\n",
        "# Clone the repository\n",
        "!git clone https://github.com/alibaba/AliceMind/tree/main/mPLUG\n",
        "%cd CSE-597-Final_Project/mPLUG\n",
        "\n",
        "# Install additional requirements\n",
        "!pip install -r /content/MyDrive/CSE-597-Final_Project/mPLUG/requirements.txt"
      ]
    },
    {
      "cell_type": "code",
      "source": [
        "# Create dataset directories\n",
        "!mkdir -p data/coco\n",
        "\n",
        "# Download COCO dataset annotations\n",
        "!wget http://images.cocodataset.org/annotations/annotations_trainval2017.zip -P data/coco\n",
        "!wget http://images.cocodataset.org/annotations/image_info_test2017.zip -P data/coco\n",
        "\n",
        "# Unzip annotations\n",
        "!unzip data/coco/annotations_trainval2017.zip -d data/coco\n",
        "!unzip data/coco/image_info_test2017.zip -d data/coco\n",
        "\n",
        "# Download COCO train and validation images\n",
        "!wget http://images.cocodataset.org/zips/train2017.zip -P data/coco\n",
        "!wget http://images.cocodataset.org/zips/val2017.zip -P data/coco\n",
        "\n",
        "# Unzip images (this step takes time)\n",
        "!unzip data/coco/train2017.zip -d data/coco\n",
        "!unzip data/coco/val2017.zip -d data/coco"
      ],
      "metadata": {
        "id": "FT3-7QTGDv1V"
      },
      "execution_count": null,
      "outputs": []
    },
    {
      "cell_type": "code",
      "source": [
        "# Update dataset paths in the config file\n",
        "import fileinput\n",
        "\n",
        "config_file = \"configs/caption_mplug_base.yaml\"\n",
        "with fileinput.FileInput(config_file, inplace=True) as file:\n",
        "    for line in file:\n",
        "        print(line.replace(\"data/coco\", \"/content//MyDrive/CSE-597-Final_Project/mPLUG/data/coco\"), end=\"\")"
      ],
      "metadata": {
        "id": "OfZlAnCGD1yi"
      },
      "execution_count": null,
      "outputs": []
    },
    {
      "cell_type": "code",
      "source": [
        "# Run the fine-tuning script for mPLUG Base\n",
        "!bash /content/MyDrive/CSE-597-Final_Project/mPLUG/scripts/caption_mplug_base.sh"
      ],
      "metadata": {
        "id": "DK-ZFb6ED7Vy"
      },
      "execution_count": null,
      "outputs": []
    },
    {
      "cell_type": "code",
      "source": [
        "# Run evaluation for mPLUG Base\n",
        "!bash /content/MyDrive/CSE-597-Final_Project/mPLUG/scripts/eval_caption_mplug_base.sh"
      ],
      "metadata": {
        "id": "2PPv-7iJELHY"
      },
      "execution_count": null,
      "outputs": []
    },
    {
      "cell_type": "code",
      "source": [
        "# Update hyperparameters in the config file\n",
        "with fileinput.FileInput(\"configs/caption_mplug_base.yaml\", inplace=True) as file:\n",
        "    for line in file:\n",
        "        print(line.replace(\"BASE_LR: 2e-5\", \"BASE_LR: 5e-5\"), end=\"\")"
      ],
      "metadata": {
        "id": "TcAqXloxEXCP"
      },
      "execution_count": null,
      "outputs": []
    },
    {
      "cell_type": "code",
      "source": [
        "!python tools/evaluate.py --config /MyDrive/CSE-597-Final_Project/mPLUG/configs/caption_mplug_base.yaml --dataset nocaps"
      ],
      "metadata": {
        "id": "F2PTgXPpEsZW"
      },
      "execution_count": null,
      "outputs": []
    },
    {
      "cell_type": "code",
      "source": [
        "from google.colab import files\n",
        "uploaded = files.upload()\n",
        "\n",
        "import os\n",
        "\n",
        "image_path = list(uploaded.keys())[0]"
      ],
      "metadata": {
        "id": "8KEpqGV5ExG5"
      },
      "execution_count": null,
      "outputs": []
    },
    {
      "cell_type": "code",
      "source": [
        "!python tools/inference.py --config /MyDrive/CSE-597-Final_Project/mPLUG/configs/caption_mplug_base.yaml --image_path {image_path}"
      ],
      "metadata": {
        "id": "9uTMg2TWEzua"
      },
      "execution_count": null,
      "outputs": []
    }
  ]
}